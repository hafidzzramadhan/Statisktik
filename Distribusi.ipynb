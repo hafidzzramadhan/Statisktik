{
  "nbformat": 4,
  "nbformat_minor": 0,
  "metadata": {
    "colab": {
      "provenance": [],
      "authorship_tag": "ABX9TyOcM9DWiQb2HyQIfrUiCMXn",
      "include_colab_link": true
    },
    "kernelspec": {
      "name": "python3",
      "display_name": "Python 3"
    },
    "language_info": {
      "name": "python"
    }
  },
  "cells": [
    {
      "cell_type": "markdown",
      "metadata": {
        "id": "view-in-github",
        "colab_type": "text"
      },
      "source": [
        "<a href=\"https://colab.research.google.com/github/hafidzzramadhan/Statisktik/blob/main/Distribusi.ipynb\" target=\"_parent\"><img src=\"https://colab.research.google.com/assets/colab-badge.svg\" alt=\"Open In Colab\"/></a>"
      ]
    },
    {
      "cell_type": "code",
      "execution_count": 1,
      "metadata": {
        "colab": {
          "base_uri": "https://localhost:8080/"
        },
        "id": "ra0sQI9rTD8x",
        "outputId": "456eb632-713c-4078-a1d2-1c0583b5defe"
      },
      "outputs": [
        {
          "output_type": "stream",
          "name": "stdout",
          "text": [
            "Pelanggan yang diharapkan tiba pada pukul 8.00 pagi: 2 orang\n"
          ]
        }
      ],
      "source": [
        "import numpy as np\n",
        "\n",
        "# Nilai a (dalam menit)\n",
        "a = 30\n",
        "\n",
        "# Rata-rata waktu antara kedatangan pelanggan (dalam menit)\n",
        "mu = 10 + a\n",
        "\n",
        "# Hitung tingkat kedatangan (lambda) dari distribusi eksponensial\n",
        "lambd = 1 / mu\n",
        "\n",
        "# Hitung pelanggan yang diharapkan tiba pada pukul (a+1) (pukul 8.00 pagi) dalam satu jam\n",
        "# Karena waktu diukur dalam menit, kita harus mengonversi waktu menjadi menit\n",
        "waktu_dalam_satu_jam = 60  # menit\n",
        "pelanggan_diharapkan = lambd * waktu_dalam_satu_jam\n",
        "\n",
        "# Pembulatan hasil ke pelanggan yang lebih mendekati bilangan bulat terdekat\n",
        "pelanggan_diharapkan = round(pelanggan_diharapkan)\n",
        "\n",
        "# Output hasil\n",
        "print(\"Pelanggan yang diharapkan tiba pada pukul 8.00 pagi:\", pelanggan_diharapkan, \"orang\")\n"
      ]
    },
    {
      "cell_type": "code",
      "source": [
        "import numpy as np\n",
        "\n",
        "# Parameter distribusi Weibull\n",
        "k = 1.8  # parameter bentuk (shape)\n",
        "scale = 5  # parameter skala (scale) dalam tahun\n",
        "\n",
        "# Waktu yang diinginkan (dalam tahun)\n",
        "a = 0\n",
        "\n",
        "# Hitung peluang bahwa produk akan bertahan lebih dari (3+a) tahun\n",
        "t = 3 + a\n",
        "reliability = np.exp(-(t / scale) ** k)\n",
        "\n",
        "# Hitung persentase produk yang diharapkan bertahan setidaknya (3+a) tahun\n",
        "percentage_survival = (1 - reliability) * 100\n",
        "\n",
        "# Output hasil\n",
        "print(\"Persentase produk yang diharapkan bertahan setidaknya (3+a) tahun:\", round(percentage_survival, 2), \"%\")\n"
      ],
      "metadata": {
        "colab": {
          "base_uri": "https://localhost:8080/"
        },
        "id": "bUiSEkcZTi4Q",
        "outputId": "1cf0d2a4-dc44-4219-9431-2c57494b41f4"
      },
      "execution_count": 2,
      "outputs": [
        {
          "output_type": "stream",
          "name": "stdout",
          "text": [
            "Persentase produk yang diharapkan bertahan setidaknya (3+a) tahun: 32.88 %\n"
          ]
        }
      ]
    }
  ]
}